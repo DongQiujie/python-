{
 "cells": [
  {
   "cell_type": "code",
   "execution_count": null,
   "metadata": {},
   "outputs": [],
   "source": [
    "from urllib.request import urlopen\n",
    "\n",
    "#if  the web has chinese ，then we should apply decode\n",
    "html=urlopen(\"file:///D:/Py_Workspace/webCrawler/webCrawler1.html\").read().decode('utf-8')\n",
    "print(html)"
   ]
  },
  {
   "cell_type": "code",
   "execution_count": null,
   "metadata": {},
   "outputs": [],
   "source": [
    "import re\n",
    "res_1=re.findall(r\"<title>(.+?)</title>\",html)\n",
    "print(\"\\nThe webCrawler's title is:\",res_1[0])"
   ]
  },
  {
   "cell_type": "code",
   "execution_count": null,
   "metadata": {},
   "outputs": [],
   "source": [
    "res_2=re.findall(r\"<p>(.*?)</p>\",html,flags=re.DOTALL)\n",
    "print(\"\\nThe webCrawler's paragraph is:\",res_2[0])"
   ]
  },
  {
   "cell_type": "code",
   "execution_count": null,
   "metadata": {},
   "outputs": [],
   "source": [
    "res_3=re.findall(r'href=\"(.*?)\"',html)\n",
    "print(\"\\nThe webcrawler's all links:\",res_3)"
   ]
  }
 ],
 "metadata": {
  "kernelspec": {
   "display_name": "Python 3",
   "language": "python",
   "name": "python3"
  },
  "language_info": {
   "codemirror_mode": {
    "name": "ipython",
    "version": 3
   },
   "file_extension": ".py",
   "mimetype": "text/x-python",
   "name": "python",
   "nbconvert_exporter": "python",
   "pygments_lexer": "ipython3",
   "version": "3.6.4"
  }
 },
 "nbformat": 4,
 "nbformat_minor": 2
}
